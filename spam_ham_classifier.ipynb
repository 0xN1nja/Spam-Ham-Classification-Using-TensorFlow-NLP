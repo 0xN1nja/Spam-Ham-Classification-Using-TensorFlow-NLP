{
 "cells": [
  {
   "cell_type": "code",
   "execution_count": 39,
   "id": "c77bd2ae",
   "metadata": {},
   "outputs": [],
   "source": [
    "import tensorflow as tf\n",
    "import numpy as np\n",
    "import pandas as pd\n",
    "import matplotlib.pyplot as plt"
   ]
  },
  {
   "cell_type": "markdown",
   "id": "7f8ac34b",
   "metadata": {},
   "source": [
    "# Read Dataset"
   ]
  },
  {
   "cell_type": "code",
   "execution_count": 40,
   "id": "c2845d1f",
   "metadata": {},
   "outputs": [],
   "source": [
    "df=pd.read_csv(\"spam_ham_dataset.csv\")"
   ]
  },
  {
   "cell_type": "markdown",
   "id": "ba03dfba",
   "metadata": {},
   "source": [
    "# Initialize TensorBoard"
   ]
  },
  {
   "cell_type": "code",
   "execution_count": 41,
   "id": "882ddaa7",
   "metadata": {},
   "outputs": [],
   "source": [
    "tsb=tf.keras.callbacks.TensorBoard(log_dir=\"logs\")"
   ]
  },
  {
   "cell_type": "markdown",
   "id": "badf791c",
   "metadata": {},
   "source": [
    "# Create Model"
   ]
  },
  {
   "cell_type": "code",
   "execution_count": 42,
   "id": "6bb5bf31",
   "metadata": {},
   "outputs": [],
   "source": [
    "model=tf.keras.models.Sequential([\n",
    "    tf.keras.layers.Embedding(100000,16,input_length=20),\n",
    "    tf.keras.layers.GlobalAveragePooling1D(),\n",
    "    tf.keras.layers.Dense(24,activation=\"relu\"),\n",
    "    tf.keras.layers.Dense(1,activation=\"sigmoid\")\n",
    "])"
   ]
  },
  {
   "cell_type": "markdown",
   "id": "0f78c7be",
   "metadata": {},
   "source": [
    "# Compile Model"
   ]
  },
  {
   "cell_type": "code",
   "execution_count": 43,
   "id": "b7898e35",
   "metadata": {},
   "outputs": [],
   "source": [
    "model.compile(\"adam\",\"binary_crossentropy\",\"accuracy\")"
   ]
  },
  {
   "cell_type": "markdown",
   "id": "d35aca9a",
   "metadata": {},
   "source": [
    "# Get Summary Of Model"
   ]
  },
  {
   "cell_type": "code",
   "execution_count": 44,
   "id": "6b05b0ba",
   "metadata": {},
   "outputs": [
    {
     "name": "stdout",
     "output_type": "stream",
     "text": [
      "Model: \"sequential_2\"\n",
      "_________________________________________________________________\n",
      " Layer (type)                Output Shape              Param #   \n",
      "=================================================================\n",
      " embedding_2 (Embedding)     (None, 20, 16)            1600000   \n",
      "                                                                 \n",
      " global_average_pooling1d_2   (None, 16)               0         \n",
      " (GlobalAveragePooling1D)                                        \n",
      "                                                                 \n",
      " dense_4 (Dense)             (None, 24)                408       \n",
      "                                                                 \n",
      " dense_5 (Dense)             (None, 1)                 25        \n",
      "                                                                 \n",
      "=================================================================\n",
      "Total params: 1,600,433\n",
      "Trainable params: 1,600,433\n",
      "Non-trainable params: 0\n",
      "_________________________________________________________________\n"
     ]
    }
   ],
   "source": [
    "model.summary()"
   ]
  },
  {
   "cell_type": "markdown",
   "id": "c450d195",
   "metadata": {},
   "source": [
    "# Initialize Tokenizer And Fit On The Dataset"
   ]
  },
  {
   "cell_type": "code",
   "execution_count": 45,
   "id": "5da3f9f9",
   "metadata": {},
   "outputs": [],
   "source": [
    "token=tf.keras.preprocessing.text.Tokenizer(oov_token=\"<OOV>\")\n",
    "token.fit_on_texts(df[\"text\"])\n",
    "sequences=token.texts_to_sequences(df[\"text\"])\n",
    "padded_sequences=tf.keras.preprocessing.sequence.pad_sequences(sequences=sequences,maxlen=20,padding=\"post\",truncating=\"post\")"
   ]
  },
  {
   "cell_type": "markdown",
   "id": "0a7a5fb1",
   "metadata": {},
   "source": [
    "# Train The Model"
   ]
  },
  {
   "cell_type": "code",
   "execution_count": 46,
   "id": "150a5184",
   "metadata": {},
   "outputs": [
    {
     "name": "stdout",
     "output_type": "stream",
     "text": [
      "Epoch 1/30\n",
      "114/114 [==============================] - 5s 37ms/step - loss: 0.5951 - accuracy: 0.7159 - val_loss: 0.5007 - val_accuracy: 0.6881\n",
      "Epoch 2/30\n",
      "114/114 [==============================] - 6s 54ms/step - loss: 0.3464 - accuracy: 0.8190 - val_loss: 0.2706 - val_accuracy: 0.9175\n",
      "Epoch 3/30\n",
      "114/114 [==============================] - 9s 77ms/step - loss: 0.1527 - accuracy: 0.9718 - val_loss: 0.1522 - val_accuracy: 0.9543\n",
      "Epoch 4/30\n",
      "114/114 [==============================] - 6s 51ms/step - loss: 0.0712 - accuracy: 0.9892 - val_loss: 0.1171 - val_accuracy: 0.9588\n",
      "Epoch 5/30\n",
      "114/114 [==============================] - 6s 50ms/step - loss: 0.0399 - accuracy: 0.9931 - val_loss: 0.1024 - val_accuracy: 0.9626\n",
      "Epoch 6/30\n",
      "114/114 [==============================] - 6s 50ms/step - loss: 0.0244 - accuracy: 0.9964 - val_loss: 0.0961 - val_accuracy: 0.9613\n",
      "Epoch 7/30\n",
      "114/114 [==============================] - 6s 49ms/step - loss: 0.0158 - accuracy: 0.9981 - val_loss: 0.0948 - val_accuracy: 0.9601\n",
      "Epoch 8/30\n",
      "114/114 [==============================] - 6s 56ms/step - loss: 0.0110 - accuracy: 0.9992 - val_loss: 0.0908 - val_accuracy: 0.9633\n",
      "Epoch 9/30\n",
      "114/114 [==============================] - 6s 57ms/step - loss: 0.0079 - accuracy: 0.9994 - val_loss: 0.0912 - val_accuracy: 0.9633\n",
      "Epoch 10/30\n",
      "114/114 [==============================] - 7s 65ms/step - loss: 0.0060 - accuracy: 0.9992 - val_loss: 0.0910 - val_accuracy: 0.9659\n",
      "Epoch 11/30\n",
      "114/114 [==============================] - 6s 56ms/step - loss: 0.0048 - accuracy: 0.9994 - val_loss: 0.0914 - val_accuracy: 0.9659\n",
      "Epoch 12/30\n",
      "114/114 [==============================] - 8s 67ms/step - loss: 0.0038 - accuracy: 0.9992 - val_loss: 0.0926 - val_accuracy: 0.9639\n",
      "Epoch 13/30\n",
      "114/114 [==============================] - 7s 62ms/step - loss: 0.0031 - accuracy: 0.9997 - val_loss: 0.0928 - val_accuracy: 0.9652\n",
      "Epoch 14/30\n",
      "114/114 [==============================] - 6s 55ms/step - loss: 0.0025 - accuracy: 0.9997 - val_loss: 0.0934 - val_accuracy: 0.9652\n",
      "Epoch 15/30\n",
      "114/114 [==============================] - 7s 57ms/step - loss: 0.0021 - accuracy: 0.9997 - val_loss: 0.0951 - val_accuracy: 0.9652\n",
      "Epoch 16/30\n",
      "114/114 [==============================] - 7s 58ms/step - loss: 0.0018 - accuracy: 0.9997 - val_loss: 0.0956 - val_accuracy: 0.9652\n",
      "Epoch 17/30\n",
      "114/114 [==============================] - 6s 55ms/step - loss: 0.0015 - accuracy: 1.0000 - val_loss: 0.0974 - val_accuracy: 0.9652\n",
      "Epoch 18/30\n",
      "114/114 [==============================] - 6s 54ms/step - loss: 0.0014 - accuracy: 0.9997 - val_loss: 0.0986 - val_accuracy: 0.9639\n",
      "Epoch 19/30\n",
      "114/114 [==============================] - 6s 53ms/step - loss: 0.0011 - accuracy: 0.9997 - val_loss: 0.0988 - val_accuracy: 0.9652\n",
      "Epoch 20/30\n",
      "114/114 [==============================] - 7s 59ms/step - loss: 0.0010 - accuracy: 0.9997 - val_loss: 0.0999 - val_accuracy: 0.9652\n",
      "Epoch 21/30\n",
      "114/114 [==============================] - 7s 61ms/step - loss: 9.3261e-04 - accuracy: 0.9997 - val_loss: 0.1013 - val_accuracy: 0.9646\n",
      "Epoch 22/30\n",
      "114/114 [==============================] - 7s 62ms/step - loss: 7.8488e-04 - accuracy: 1.0000 - val_loss: 0.1025 - val_accuracy: 0.9646\n",
      "Epoch 23/30\n",
      "114/114 [==============================] - 7s 58ms/step - loss: 6.5890e-04 - accuracy: 1.0000 - val_loss: 0.1048 - val_accuracy: 0.9639\n",
      "Epoch 24/30\n",
      "114/114 [==============================] - 6s 53ms/step - loss: 6.9021e-04 - accuracy: 0.9997 - val_loss: 0.1051 - val_accuracy: 0.9646\n",
      "Epoch 25/30\n",
      "114/114 [==============================] - 6s 56ms/step - loss: 6.0587e-04 - accuracy: 1.0000 - val_loss: 0.1064 - val_accuracy: 0.9646\n",
      "Epoch 26/30\n",
      "114/114 [==============================] - 6s 52ms/step - loss: 5.2085e-04 - accuracy: 1.0000 - val_loss: 0.1078 - val_accuracy: 0.9646\n",
      "Epoch 27/30\n",
      "114/114 [==============================] - 6s 52ms/step - loss: 4.4825e-04 - accuracy: 1.0000 - val_loss: 0.1089 - val_accuracy: 0.9646\n",
      "Epoch 28/30\n",
      "114/114 [==============================] - 7s 63ms/step - loss: 3.7132e-04 - accuracy: 1.0000 - val_loss: 0.1107 - val_accuracy: 0.9646\n",
      "Epoch 29/30\n",
      "114/114 [==============================] - 7s 63ms/step - loss: 3.6858e-04 - accuracy: 1.0000 - val_loss: 0.1127 - val_accuracy: 0.9646\n",
      "Epoch 30/30\n",
      "114/114 [==============================] - 7s 61ms/step - loss: 3.5546e-04 - accuracy: 1.0000 - val_loss: 0.1132 - val_accuracy: 0.9639\n"
     ]
    }
   ],
   "source": [
    "history=model.fit(padded_sequences,df[\"label_num\"],epochs=30,callbacks=[tsb],validation_split=0.3)"
   ]
  },
  {
   "cell_type": "markdown",
   "id": "732e5dbc",
   "metadata": {},
   "source": [
    "# Accuracy Graph"
   ]
  },
  {
   "cell_type": "code",
   "execution_count": 47,
   "id": "fecea7cb",
   "metadata": {},
   "outputs": [
    {
     "data": {
      "text/plain": [
       "<matplotlib.legend.Legend at 0x23ae7c64250>"
      ]
     },
     "execution_count": 47,
     "metadata": {},
     "output_type": "execute_result"
    },
    {
     "data": {
      "image/png": "[encoded data removed]",
      "text/plain": [
       "<Figure size 432x288 with 1 Axes>"
      ]
     },
     "metadata": {
      "needs_background": "light"
     },
     "output_type": "display_data"
    }
   ],
   "source": [
    "plt.plot(history.history[\"accuracy\"])\n",
    "plt.plot(history.history[\"val_accuracy\"])\n",
    "plt.title(\"Model Accuracy\")\n",
    "plt.ylabel(\"Accuracy\")\n",
    "plt.xlabel(\"Epoch\")\n",
    "plt.legend([\"Train\",\"Validation\"],loc=\"best\")"
   ]
  },
  {
   "cell_type": "markdown",
   "id": "53e11c41",
   "metadata": {},
   "source": [
    "# Loss Graph"
   ]
  },
  {
   "cell_type": "code",
   "execution_count": 48,
   "id": "028ec04f",
   "metadata": {},
   "outputs": [
    {
     "data": {
      "text/plain": [
       "<matplotlib.legend.Legend at 0x23ae0bce580>"
      ]
     },
     "execution_count": 48,
     "metadata": {},
     "output_type": "execute_result"
    },
    {
     "data": {
      "image/png": "[encoded data removed]",
      "text/plain": [
       "<Figure size 432x288 with 1 Axes>"
      ]
     },
     "metadata": {
      "needs_background": "light"
     },
     "output_type": "display_data"
    }
   ],
   "source": [
    "plt.plot(history.history[\"loss\"])\n",
    "plt.plot(history.history[\"val_loss\"])\n",
    "plt.title(\"Model Loss\")\n",
    "plt.ylabel(\"Loss\")\n",
    "plt.xlabel(\"Epoch\")\n",
    "plt.legend([\"Train\",\"Validation\"],loc=\"best\")"
   ]
  },
  {
   "cell_type": "markdown",
   "id": "8f1b4d62",
   "metadata": {},
   "source": [
    "# Prediction "
   ]
  },
  {
   "cell_type": "code",
   "execution_count": 49,
   "id": "862193c7",
   "metadata": {},
   "outputs": [
    {
     "data": {
      "text/plain": [
       "array([[1.],\n",
       "       [0.],\n",
       "       [1.]], dtype=float32)"
      ]
     },
     "execution_count": 49,
     "metadata": {},
     "output_type": "execute_result"
    }
   ],
   "source": [
    "test_texts=[\"you won lottery!\",\"hello bro\",\"buy this iphone for free!\"]\n",
    "test_token=tf.keras.preprocessing.text.Tokenizer(oov_token=\"<OOV>\")\n",
    "test_token.fit_on_texts(test_texts)\n",
    "test_seq=test_token.texts_to_sequences(test_texts)\n",
    "padded_test_seq=tf.keras.preprocessing.sequence.pad_sequences(test_seq,maxlen=20,padding=\"post\",truncating=\"post\")\n",
    "np.round(model.predict([padded_test_seq]))"
   ]
  },
  {
   "cell_type": "markdown",
   "id": "b801dbe0",
   "metadata": {},
   "source": [
    "# Save"
   ]
  },
  {
   "cell_type": "code",
   "execution_count": 50,
   "id": "770e5363",
   "metadata": {},
   "outputs": [],
   "source": [
    "model.save(\"spam_ham_classifier.h5\")"
   ]
  },
  {
   "cell_type": "markdown",
   "id": "5f7464a4",
   "metadata": {},
   "source": [
    "# Convert To TFLite Model For Edge Devices"
   ]
  },
  {
   "cell_type": "code",
   "execution_count": 51,
   "id": "52574d2a",
   "metadata": {},
   "outputs": [
    {
     "name": "stdout",
     "output_type": "stream",
     "text": [
      "INFO:tensorflow:Assets written to: C:\\Users\\speed\\AppData\\Local\\Temp\\tmpfm46sng2\\assets\n"
     ]
    },
    {
     "name": "stderr",
     "output_type": "stream",
     "text": [
      "WARNING:absl:Buffer deduplication procedure will be skipped when flatbuffer library is not properly loaded\n"
     ]
    }
   ],
   "source": [
    "tf_lite_converter=tf.lite.TFLiteConverter.from_keras_model(model)\n",
    "with open(\"spam_ham_classifier.tflite\",\"wb\") as f:\n",
    "    f.write(tf_lite_converter.convert())"
   ]
  }
 ],
 "metadata": {
  "kernelspec": {
   "display_name": "Python 3 (ipykernel)",
   "language": "python",
   "name": "python3"
  },
  "language_info": {
   "codemirror_mode": {
    "name": "ipython",
    "version": 3
   },
   "file_extension": ".py",
   "mimetype": "text/x-python",
   "name": "python",
   "nbconvert_exporter": "python",
   "pygments_lexer": "ipython3",
   "version": "3.9.7"
  }
 },
 "nbformat": 4,
 "nbformat_minor": 5
}
