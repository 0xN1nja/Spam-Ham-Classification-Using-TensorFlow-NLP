{
 "cells": [
  {
   "cell_type": "code",
   "execution_count": 136,
   "id": "c77bd2ae",
   "metadata": {},
   "outputs": [],
   "source": [
    "import os\n",
    "import sklearn\n",
    "import tensorflow as tf\n",
    "import numpy as np\n",
    "import pandas as pd\n",
    "import matplotlib.pyplot as plt"
   ]
  },
  {
   "cell_type": "code",
   "execution_count": 137,
   "id": "c2845d1f",
   "metadata": {},
   "outputs": [],
   "source": [
    "df=pd.read_csv(\"spam_ham_dataset.csv\")"
   ]
  },
  {
   "cell_type": "code",
   "execution_count": 138,
   "id": "882ddaa7",
   "metadata": {},
   "outputs": [],
   "source": [
    "tsb=tf.keras.callbacks.TensorBoard(log_dir=\"logs\")"
   ]
  },
  {
   "cell_type": "code",
   "execution_count": 139,
   "id": "6bb5bf31",
   "metadata": {},
   "outputs": [],
   "source": [
    "model=tf.keras.models.Sequential([\n",
    "    tf.keras.layers.Embedding(100000,16,input_length=20),\n",
    "    tf.keras.layers.GlobalAveragePooling1D(),\n",
    "    tf.keras.layers.Dense(24,activation=\"relu\"),\n",
    "    tf.keras.layers.Dense(1,activation=\"sigmoid\")\n",
    "])"
   ]
  },
  {
   "cell_type": "code",
   "execution_count": 140,
   "id": "b7898e35",
   "metadata": {},
   "outputs": [],
   "source": [
    "model.compile(\"adam\",\"binary_crossentropy\",\"accuracy\")"
   ]
  },
  {
   "cell_type": "code",
   "execution_count": 141,
   "id": "6b05b0ba",
   "metadata": {},
   "outputs": [
    {
     "data": {
      "text/html": [
       "<div>\n",
       "<style scoped>\n",
       "    .dataframe tbody tr th:only-of-type {\n",
       "        vertical-align: middle;\n",
       "    }\n",
       "\n",
       "    .dataframe tbody tr th {\n",
       "        vertical-align: top;\n",
       "    }\n",
       "\n",
       "    .dataframe thead th {\n",
       "        text-align: right;\n",
       "    }\n",
       "</style>\n",
       "<table border=\"1\" class=\"dataframe\">\n",
       "  <thead>\n",
       "    <tr style=\"text-align: right;\">\n",
       "      <th></th>\n",
       "      <th>Unnamed: 0</th>\n",
       "      <th>label</th>\n",
       "      <th>text</th>\n",
       "      <th>label_num</th>\n",
       "    </tr>\n",
       "  </thead>\n",
       "  <tbody>\n",
       "    <tr>\n",
       "      <th>3479</th>\n",
       "      <td>2707</td>\n",
       "      <td>ham</td>\n",
       "      <td>Subject: tenaska iv 1 / 01\\r\\nwe need to chang...</td>\n",
       "      <td>0</td>\n",
       "    </tr>\n",
       "  </tbody>\n",
       "</table>\n",
       "</div>"
      ],
      "text/plain": [
       "      Unnamed: 0 label                                               text  \\\n",
       "3479        2707   ham  Subject: tenaska iv 1 / 01\\r\\nwe need to chang...   \n",
       "\n",
       "      label_num  \n",
       "3479          0  "
      ]
     },
     "execution_count": 141,
     "metadata": {},
     "output_type": "execute_result"
    }
   ],
   "source": [
    "df.sample()"
   ]
  },
  {
   "cell_type": "code",
   "execution_count": 142,
   "id": "5da3f9f9",
   "metadata": {},
   "outputs": [],
   "source": [
    "token=tf.keras.preprocessing.text.Tokenizer(oov_token=\"<OOV>\")\n",
    "token.fit_on_texts(df[\"text\"])\n",
    "sequences=token.texts_to_sequences(df[\"text\"])\n",
    "padded_sequences=tf.keras.preprocessing.sequence.pad_sequences(sequences=sequences,maxlen=20,padding=\"post\",truncating=\"post\")"
   ]
  },
  {
   "cell_type": "code",
   "execution_count": 143,
   "id": "150a5184",
   "metadata": {},
   "outputs": [
    {
     "name": "stdout",
     "output_type": "stream",
     "text": [
      "Epoch 1/30\n",
      "114/114 [==============================] - 4s 30ms/step - loss: 0.6068 - accuracy: 0.7154 - val_loss: 0.5053 - val_accuracy: 0.6881\n",
      "Epoch 2/30\n",
      "114/114 [==============================] - 3s 24ms/step - loss: 0.3413 - accuracy: 0.8342 - val_loss: 0.2542 - val_accuracy: 0.9227\n",
      "Epoch 3/30\n",
      "114/114 [==============================] - 3s 25ms/step - loss: 0.1439 - accuracy: 0.9729 - val_loss: 0.1477 - val_accuracy: 0.9543\n",
      "Epoch 4/30\n",
      "114/114 [==============================] - 12s 105ms/step - loss: 0.0693 - accuracy: 0.9881 - val_loss: 0.1140 - val_accuracy: 0.9594\n",
      "Epoch 5/30\n",
      "114/114 [==============================] - 21s 185ms/step - loss: 0.0394 - accuracy: 0.9928 - val_loss: 0.1022 - val_accuracy: 0.9607\n",
      "Epoch 6/30\n",
      "114/114 [==============================] - 13s 110ms/step - loss: 0.0244 - accuracy: 0.9956 - val_loss: 0.0959 - val_accuracy: 0.9620\n",
      "Epoch 7/30\n",
      "114/114 [==============================] - 26s 232ms/step - loss: 0.0161 - accuracy: 0.9978 - val_loss: 0.0918 - val_accuracy: 0.9626\n",
      "Epoch 8/30\n",
      "114/114 [==============================] - 5s 42ms/step - loss: 0.0111 - accuracy: 0.9992 - val_loss: 0.0901 - val_accuracy: 0.9620\n",
      "Epoch 9/30\n",
      "114/114 [==============================] - 14s 127ms/step - loss: 0.0081 - accuracy: 0.9992 - val_loss: 0.0894 - val_accuracy: 0.9639\n",
      "Epoch 10/30\n",
      "114/114 [==============================] - 4s 34ms/step - loss: 0.0064 - accuracy: 0.9992 - val_loss: 0.0903 - val_accuracy: 0.9626\n",
      "Epoch 11/30\n",
      "114/114 [==============================] - 5s 46ms/step - loss: 0.0049 - accuracy: 0.9994 - val_loss: 0.0904 - val_accuracy: 0.9659\n",
      "Epoch 12/30\n",
      "114/114 [==============================] - 14s 124ms/step - loss: 0.0039 - accuracy: 0.9992 - val_loss: 0.0917 - val_accuracy: 0.9652\n",
      "Epoch 13/30\n",
      "114/114 [==============================] - 4s 33ms/step - loss: 0.0032 - accuracy: 0.9992 - val_loss: 0.0926 - val_accuracy: 0.9633\n",
      "Epoch 14/30\n",
      "114/114 [==============================] - 14s 120ms/step - loss: 0.0027 - accuracy: 0.9997 - val_loss: 0.0939 - val_accuracy: 0.9639\n",
      "Epoch 15/30\n",
      "114/114 [==============================] - 3s 28ms/step - loss: 0.0022 - accuracy: 0.9997 - val_loss: 0.0954 - val_accuracy: 0.9652\n",
      "Epoch 16/30\n",
      "114/114 [==============================] - 3s 28ms/step - loss: 0.0019 - accuracy: 0.9997 - val_loss: 0.0966 - val_accuracy: 0.9652\n",
      "Epoch 17/30\n",
      "114/114 [==============================] - 13s 116ms/step - loss: 0.0017 - accuracy: 0.9997 - val_loss: 0.0975 - val_accuracy: 0.9646\n",
      "Epoch 18/30\n",
      "114/114 [==============================] - 4s 33ms/step - loss: 0.0014 - accuracy: 0.9997 - val_loss: 0.0979 - val_accuracy: 0.9626\n",
      "Epoch 19/30\n",
      "114/114 [==============================] - 3s 29ms/step - loss: 0.0012 - accuracy: 1.0000 - val_loss: 0.0998 - val_accuracy: 0.9659\n",
      "Epoch 20/30\n",
      "114/114 [==============================] - 13s 116ms/step - loss: 0.0012 - accuracy: 0.9997 - val_loss: 0.1012 - val_accuracy: 0.9652\n",
      "Epoch 21/30\n",
      "114/114 [==============================] - 3s 28ms/step - loss: 9.3947e-04 - accuracy: 0.9997 - val_loss: 0.1029 - val_accuracy: 0.9633\n",
      "Epoch 22/30\n",
      "114/114 [==============================] - 3s 27ms/step - loss: 0.0023 - accuracy: 0.9994 - val_loss: 0.1040 - val_accuracy: 0.9665\n",
      "Epoch 23/30\n",
      "114/114 [==============================] - 13s 117ms/step - loss: 7.0986e-04 - accuracy: 1.0000 - val_loss: 0.1058 - val_accuracy: 0.9659\n",
      "Epoch 24/30\n",
      "114/114 [==============================] - 3s 25ms/step - loss: 6.3270e-04 - accuracy: 1.0000 - val_loss: 0.1073 - val_accuracy: 0.9646\n",
      "Epoch 25/30\n",
      "114/114 [==============================] - 3s 25ms/step - loss: 5.8138e-04 - accuracy: 1.0000 - val_loss: 0.1087 - val_accuracy: 0.9646\n",
      "Epoch 26/30\n",
      "114/114 [==============================] - 3s 25ms/step - loss: 5.3020e-04 - accuracy: 1.0000 - val_loss: 0.1101 - val_accuracy: 0.9646\n",
      "Epoch 27/30\n",
      "114/114 [==============================] - 7s 61ms/step - loss: 4.8918e-04 - accuracy: 1.0000 - val_loss: 0.1114 - val_accuracy: 0.9646\n",
      "Epoch 28/30\n",
      "114/114 [==============================] - 6s 51ms/step - loss: 4.5429e-04 - accuracy: 1.0000 - val_loss: 0.1129 - val_accuracy: 0.9646\n",
      "Epoch 29/30\n",
      "114/114 [==============================] - 5s 42ms/step - loss: 3.9898e-04 - accuracy: 1.0000 - val_loss: 0.1142 - val_accuracy: 0.9646\n",
      "Epoch 30/30\n",
      "114/114 [==============================] - 5s 42ms/step - loss: 3.7169e-04 - accuracy: 1.0000 - val_loss: 0.1155 - val_accuracy: 0.9646\n"
     ]
    },
    {
     "data": {
      "text/plain": [
       "<keras.callbacks.History at 0x2402af560a0>"
      ]
     },
     "execution_count": 143,
     "metadata": {},
     "output_type": "execute_result"
    }
   ],
   "source": [
    "model.fit(padded_sequences,df[\"label_num\"],epochs=30,callbacks=[tsb],validation_split=0.3)"
   ]
  },
  {
   "cell_type": "code",
   "execution_count": 144,
   "id": "862193c7",
   "metadata": {},
   "outputs": [
    {
     "data": {
      "text/plain": [
       "array([[1.],\n",
       "       [0.]], dtype=float32)"
      ]
     },
     "execution_count": 144,
     "metadata": {},
     "output_type": "execute_result"
    }
   ],
   "source": [
    "test_texts=[\"you won lottery!\",\"hello bro\"]\n",
    "test_token=tf.keras.preprocessing.text.Tokenizer(oov_token=\"<OOV>\")\n",
    "test_token.fit_on_texts(test_texts)\n",
    "test_seq=test_token.texts_to_sequences(test_texts)\n",
    "padded_test_seq=tf.keras.preprocessing.sequence.pad_sequences(test_seq,maxlen=20,padding=\"post\",truncating=\"post\")\n",
    "np.round(model.predict([padded_test_seq]))"
   ]
  },
  {
   "cell_type": "markdown",
   "id": "b801dbe0",
   "metadata": {},
   "source": [
    "# Save"
   ]
  },
  {
   "cell_type": "code",
   "execution_count": 145,
   "id": "770e5363",
   "metadata": {},
   "outputs": [],
   "source": [
    "model.save(\"spam_ham_classifier.h5\")"
   ]
  },
  {
   "cell_type": "markdown",
   "id": "5f7464a4",
   "metadata": {},
   "source": [
    "# Convert To TFLite Model For Edge Devices"
   ]
  },
  {
   "cell_type": "code",
   "execution_count": 149,
   "id": "52574d2a",
   "metadata": {},
   "outputs": [
    {
     "name": "stdout",
     "output_type": "stream",
     "text": [
      "INFO:tensorflow:Assets written to: C:\\Users\\speed\\AppData\\Local\\Temp\\tmpdrgpkgzk\\assets\n"
     ]
    },
    {
     "name": "stderr",
     "output_type": "stream",
     "text": [
      "INFO:tensorflow:Assets written to: C:\\Users\\speed\\AppData\\Local\\Temp\\tmpdrgpkgzk\\assets\n",
      "WARNING:absl:Buffer deduplication procedure will be skipped when flatbuffer library is not properly loaded\n"
     ]
    }
   ],
   "source": [
    "tf_lite_converter=tf.lite.TFLiteConverter.from_keras_model(model)\n",
    "with open(\"spam_ham_classifier.tflite\",\"wb\") as f:\n",
    "    f.write(tf_lite_converter.convert())"
   ]
  }
 ],
 "metadata": {
  "kernelspec": {
   "display_name": "Python 3 (ipykernel)",
   "language": "python",
   "name": "python3"
  },
  "language_info": {
   "codemirror_mode": {
    "name": "ipython",
    "version": 3
   },
   "file_extension": ".py",
   "mimetype": "text/x-python",
   "name": "python",
   "nbconvert_exporter": "python",
   "pygments_lexer": "ipython3",
   "version": "3.9.7"
  }
 },
 "nbformat": 4,
 "nbformat_minor": 5
}
