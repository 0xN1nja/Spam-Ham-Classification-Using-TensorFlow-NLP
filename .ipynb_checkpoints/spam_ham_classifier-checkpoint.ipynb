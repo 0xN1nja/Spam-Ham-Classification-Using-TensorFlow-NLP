{
 "cells": [
  {
   "cell_type": "code",
   "execution_count": 1,
   "id": "c77bd2ae",
   "metadata": {},
   "outputs": [],
   "source": [
    "import tensorflow as tf\n",
    "import numpy as np\n",
    "import pandas as pd\n",
    "import matplotlib.pyplot as plt"
   ]
  },
  {
   "cell_type": "markdown",
   "id": "7f8ac34b",
   "metadata": {},
   "source": [
    "# Read Dataset"
   ]
  },
  {
   "cell_type": "code",
   "execution_count": 2,
   "id": "c2845d1f",
   "metadata": {},
   "outputs": [],
   "source": [
    "df=pd.read_csv(\"spam_ham_dataset.csv\")"
   ]
  },
  {
   "cell_type": "markdown",
   "id": "490c928e",
   "metadata": {},
   "source": [
    "# Print First 5 Sample Mails"
   ]
  },
  {
   "cell_type": "code",
   "execution_count": 3,
   "id": "92dabb41",
   "metadata": {},
   "outputs": [
    {
     "data": {
      "text/html": [
       "<div>\n",
       "<style scoped>\n",
       "    .dataframe tbody tr th:only-of-type {\n",
       "        vertical-align: middle;\n",
       "    }\n",
       "\n",
       "    .dataframe tbody tr th {\n",
       "        vertical-align: top;\n",
       "    }\n",
       "\n",
       "    .dataframe thead th {\n",
       "        text-align: right;\n",
       "    }\n",
       "</style>\n",
       "<table border=\"1\" class=\"dataframe\">\n",
       "  <thead>\n",
       "    <tr style=\"text-align: right;\">\n",
       "      <th></th>\n",
       "      <th>Unnamed: 0</th>\n",
       "      <th>label</th>\n",
       "      <th>text</th>\n",
       "      <th>label_num</th>\n",
       "    </tr>\n",
       "  </thead>\n",
       "  <tbody>\n",
       "    <tr>\n",
       "      <th>0</th>\n",
       "      <td>605</td>\n",
       "      <td>ham</td>\n",
       "      <td>Subject: enron methanol ; meter # : 988291\\r\\n...</td>\n",
       "      <td>0</td>\n",
       "    </tr>\n",
       "    <tr>\n",
       "      <th>1</th>\n",
       "      <td>2349</td>\n",
       "      <td>ham</td>\n",
       "      <td>Subject: hpl nom for january 9 , 2001\\r\\n( see...</td>\n",
       "      <td>0</td>\n",
       "    </tr>\n",
       "    <tr>\n",
       "      <th>2</th>\n",
       "      <td>3624</td>\n",
       "      <td>ham</td>\n",
       "      <td>Subject: neon retreat\\r\\nho ho ho , we ' re ar...</td>\n",
       "      <td>0</td>\n",
       "    </tr>\n",
       "    <tr>\n",
       "      <th>3</th>\n",
       "      <td>4685</td>\n",
       "      <td>spam</td>\n",
       "      <td>Subject: photoshop , windows , office . cheap ...</td>\n",
       "      <td>1</td>\n",
       "    </tr>\n",
       "    <tr>\n",
       "      <th>4</th>\n",
       "      <td>2030</td>\n",
       "      <td>ham</td>\n",
       "      <td>Subject: re : indian springs\\r\\nthis deal is t...</td>\n",
       "      <td>0</td>\n",
       "    </tr>\n",
       "  </tbody>\n",
       "</table>\n",
       "</div>"
      ],
      "text/plain": [
       "   Unnamed: 0 label                                               text  \\\n",
       "0         605   ham  Subject: enron methanol ; meter # : 988291\\r\\n...   \n",
       "1        2349   ham  Subject: hpl nom for january 9 , 2001\\r\\n( see...   \n",
       "2        3624   ham  Subject: neon retreat\\r\\nho ho ho , we ' re ar...   \n",
       "3        4685  spam  Subject: photoshop , windows , office . cheap ...   \n",
       "4        2030   ham  Subject: re : indian springs\\r\\nthis deal is t...   \n",
       "\n",
       "   label_num  \n",
       "0          0  \n",
       "1          0  \n",
       "2          0  \n",
       "3          1  \n",
       "4          0  "
      ]
     },
     "execution_count": 3,
     "metadata": {},
     "output_type": "execute_result"
    }
   ],
   "source": [
    "df.head()"
   ]
  },
  {
   "cell_type": "markdown",
   "id": "ba03dfba",
   "metadata": {},
   "source": [
    "# Initialize TensorBoard"
   ]
  },
  {
   "cell_type": "code",
   "execution_count": 4,
   "id": "882ddaa7",
   "metadata": {},
   "outputs": [],
   "source": [
    "tsb=tf.keras.callbacks.TensorBoard(log_dir=\"logs\")"
   ]
  },
  {
   "cell_type": "markdown",
   "id": "badf791c",
   "metadata": {},
   "source": [
    "# Create Model"
   ]
  },
  {
   "cell_type": "code",
   "execution_count": 5,
   "id": "6bb5bf31",
   "metadata": {},
   "outputs": [],
   "source": [
    "model=tf.keras.models.Sequential([\n",
    "    tf.keras.layers.Embedding(100000,16,input_length=20),\n",
    "    tf.keras.layers.GlobalAveragePooling1D(),\n",
    "    tf.keras.layers.Dense(24,activation=\"relu\"),\n",
    "    tf.keras.layers.Dense(1,activation=\"sigmoid\")\n",
    "])"
   ]
  },
  {
   "cell_type": "markdown",
   "id": "0f78c7be",
   "metadata": {},
   "source": [
    "# Compile Model"
   ]
  },
  {
   "cell_type": "code",
   "execution_count": 6,
   "id": "b7898e35",
   "metadata": {},
   "outputs": [],
   "source": [
    "model.compile(optimizer=\"adam\",loss=\"binary_crossentropy\",metrics=[\"accuracy\"])"
   ]
  },
  {
   "cell_type": "markdown",
   "id": "d35aca9a",
   "metadata": {},
   "source": [
    "# Get Summary Of Model"
   ]
  },
  {
   "cell_type": "code",
   "execution_count": 7,
   "id": "6b05b0ba",
   "metadata": {},
   "outputs": [
    {
     "name": "stdout",
     "output_type": "stream",
     "text": [
      "Model: \"sequential\"\n",
      "_________________________________________________________________\n",
      " Layer (type)                Output Shape              Param #   \n",
      "=================================================================\n",
      " embedding (Embedding)       (None, 20, 16)            1600000   \n",
      "                                                                 \n",
      " global_average_pooling1d (G  (None, 16)               0         \n",
      " lobalAveragePooling1D)                                          \n",
      "                                                                 \n",
      " dense (Dense)               (None, 24)                408       \n",
      "                                                                 \n",
      " dense_1 (Dense)             (None, 1)                 25        \n",
      "                                                                 \n",
      "=================================================================\n",
      "Total params: 1,600,433\n",
      "Trainable params: 1,600,433\n",
      "Non-trainable params: 0\n",
      "_________________________________________________________________\n"
     ]
    }
   ],
   "source": [
    "model.summary()"
   ]
  },
  {
   "cell_type": "markdown",
   "id": "c450d195",
   "metadata": {},
   "source": [
    "# Initialize Tokenizer And Fit On The Dataset"
   ]
  },
  {
   "cell_type": "code",
   "execution_count": 8,
   "id": "5da3f9f9",
   "metadata": {},
   "outputs": [],
   "source": [
    "token=tf.keras.preprocessing.text.Tokenizer(oov_token=\"<OOV>\")\n",
    "token.fit_on_texts(df[\"text\"])\n",
    "sequences=token.texts_to_sequences(df[\"text\"])\n",
    "padded_sequences=tf.keras.preprocessing.sequence.pad_sequences(sequences=sequences,maxlen=20,padding=\"post\",truncating=\"post\")"
   ]
  },
  {
   "cell_type": "markdown",
   "id": "0a7a5fb1",
   "metadata": {},
   "source": [
    "# Train The Model"
   ]
  },
  {
   "cell_type": "code",
   "execution_count": 9,
   "id": "150a5184",
   "metadata": {},
   "outputs": [
    {
     "name": "stdout",
     "output_type": "stream",
     "text": [
      "Epoch 1/30\n",
      "114/114 [==============================] - 4s 28ms/step - loss: 0.5935 - accuracy: 0.7190 - val_loss: 0.4896 - val_accuracy: 0.6881\n",
      "Epoch 2/30\n",
      "114/114 [==============================] - 3s 27ms/step - loss: 0.3284 - accuracy: 0.8381 - val_loss: 0.2581 - val_accuracy: 0.9207\n",
      "Epoch 3/30\n",
      "114/114 [==============================] - 4s 31ms/step - loss: 0.1463 - accuracy: 0.9724 - val_loss: 0.1550 - val_accuracy: 0.9543\n",
      "Epoch 4/30\n",
      "114/114 [==============================] - 7s 59ms/step - loss: 0.0713 - accuracy: 0.9887 - val_loss: 0.1202 - val_accuracy: 0.9601\n",
      "Epoch 5/30\n",
      "114/114 [==============================] - 6s 54ms/step - loss: 0.0403 - accuracy: 0.9931 - val_loss: 0.1034 - val_accuracy: 0.9633\n",
      "Epoch 6/30\n",
      "114/114 [==============================] - 6s 53ms/step - loss: 0.0246 - accuracy: 0.9959 - val_loss: 0.1019 - val_accuracy: 0.9607\n",
      "Epoch 7/30\n",
      "114/114 [==============================] - 6s 55ms/step - loss: 0.0160 - accuracy: 0.9986 - val_loss: 0.0933 - val_accuracy: 0.9646\n",
      "Epoch 8/30\n",
      "114/114 [==============================] - 6s 49ms/step - loss: 0.0111 - accuracy: 0.9989 - val_loss: 0.0927 - val_accuracy: 0.9639\n",
      "Epoch 9/30\n",
      "114/114 [==============================] - 7s 59ms/step - loss: 0.0083 - accuracy: 0.9992 - val_loss: 0.0915 - val_accuracy: 0.9652\n",
      "Epoch 10/30\n",
      "114/114 [==============================] - 6s 50ms/step - loss: 0.0064 - accuracy: 0.9994 - val_loss: 0.0918 - val_accuracy: 0.9646\n",
      "Epoch 11/30\n",
      "114/114 [==============================] - 7s 59ms/step - loss: 0.0050 - accuracy: 0.9992 - val_loss: 0.0913 - val_accuracy: 0.9659\n",
      "Epoch 12/30\n",
      "114/114 [==============================] - 6s 52ms/step - loss: 0.0039 - accuracy: 0.9994 - val_loss: 0.0932 - val_accuracy: 0.9665\n",
      "Epoch 13/30\n",
      "114/114 [==============================] - 6s 55ms/step - loss: 0.0032 - accuracy: 0.9997 - val_loss: 0.0928 - val_accuracy: 0.9633\n",
      "Epoch 14/30\n",
      "114/114 [==============================] - 6s 56ms/step - loss: 0.0027 - accuracy: 0.9997 - val_loss: 0.0929 - val_accuracy: 0.9652\n",
      "Epoch 15/30\n",
      "114/114 [==============================] - 6s 56ms/step - loss: 0.0023 - accuracy: 0.9997 - val_loss: 0.0941 - val_accuracy: 0.9665\n",
      "Epoch 16/30\n",
      "114/114 [==============================] - 6s 57ms/step - loss: 0.0019 - accuracy: 0.9997 - val_loss: 0.0950 - val_accuracy: 0.9646\n",
      "Epoch 17/30\n",
      "114/114 [==============================] - 6s 55ms/step - loss: 0.0016 - accuracy: 1.0000 - val_loss: 0.0964 - val_accuracy: 0.9659\n",
      "Epoch 18/30\n",
      "114/114 [==============================] - 6s 54ms/step - loss: 0.0015 - accuracy: 0.9997 - val_loss: 0.0972 - val_accuracy: 0.9659\n",
      "Epoch 19/30\n",
      "114/114 [==============================] - 6s 55ms/step - loss: 0.0014 - accuracy: 0.9997 - val_loss: 0.0973 - val_accuracy: 0.9652\n",
      "Epoch 20/30\n",
      "114/114 [==============================] - 6s 54ms/step - loss: 0.0011 - accuracy: 1.0000 - val_loss: 0.0990 - val_accuracy: 0.9659\n",
      "Epoch 21/30\n",
      "114/114 [==============================] - 6s 54ms/step - loss: 0.0010 - accuracy: 0.9997 - val_loss: 0.0996 - val_accuracy: 0.9652\n",
      "Epoch 22/30\n",
      "114/114 [==============================] - 6s 56ms/step - loss: 8.8228e-04 - accuracy: 0.9997 - val_loss: 0.1007 - val_accuracy: 0.9652\n",
      "Epoch 23/30\n",
      "114/114 [==============================] - 6s 54ms/step - loss: 7.8211e-04 - accuracy: 1.0000 - val_loss: 0.1023 - val_accuracy: 0.9659\n",
      "Epoch 24/30\n",
      "114/114 [==============================] - 6s 54ms/step - loss: 7.5002e-04 - accuracy: 0.9997 - val_loss: 0.1035 - val_accuracy: 0.9665\n",
      "Epoch 25/30\n",
      "114/114 [==============================] - 6s 54ms/step - loss: 6.5925e-04 - accuracy: 1.0000 - val_loss: 0.1047 - val_accuracy: 0.9665\n",
      "Epoch 26/30\n",
      "114/114 [==============================] - 6s 55ms/step - loss: 5.7944e-04 - accuracy: 1.0000 - val_loss: 0.1060 - val_accuracy: 0.9659\n",
      "Epoch 27/30\n",
      "114/114 [==============================] - 6s 54ms/step - loss: 5.2770e-04 - accuracy: 1.0000 - val_loss: 0.1067 - val_accuracy: 0.9665\n",
      "Epoch 28/30\n",
      "114/114 [==============================] - 6s 55ms/step - loss: 4.5849e-04 - accuracy: 1.0000 - val_loss: 0.1081 - val_accuracy: 0.9665\n",
      "Epoch 29/30\n",
      "114/114 [==============================] - 6s 55ms/step - loss: 4.5577e-04 - accuracy: 1.0000 - val_loss: 0.1087 - val_accuracy: 0.9665\n",
      "Epoch 30/30\n",
      "114/114 [==============================] - 6s 54ms/step - loss: 4.1422e-04 - accuracy: 1.0000 - val_loss: 0.1097 - val_accuracy: 0.9665\n"
     ]
    }
   ],
   "source": [
    "history=model.fit(padded_sequences,df[\"label_num\"],epochs=30,callbacks=[tsb],validation_split=0.3)"
   ]
  },
  {
   "cell_type": "markdown",
   "id": "732e5dbc",
   "metadata": {},
   "source": [
    "# Accuracy Graph"
   ]
  },
  {
   "cell_type": "code",
   "execution_count": 10,
   "id": "fecea7cb",
   "metadata": {},
   "outputs": [
    {
     "data": {
      "text/plain": [
       "<matplotlib.legend.Legend at 0x1da8001fb20>"
      ]
     },
     "execution_count": 10,
     "metadata": {},
     "output_type": "execute_result"
    },
    {
     "data": {
      "image/png": "[encoded data removed]",
      "text/plain": [
       "<Figure size 432x288 with 1 Axes>"
      ]
     },
     "metadata": {
      "needs_background": "light"
     },
     "output_type": "display_data"
    }
   ],
   "source": [
    "plt.plot(history.history[\"accuracy\"])\n",
    "plt.plot(history.history[\"val_accuracy\"])\n",
    "plt.title(\"Model Accuracy\")\n",
    "plt.ylabel(\"Accuracy\")\n",
    "plt.xlabel(\"Epoch\")\n",
    "plt.legend([\"Train\",\"Validation\"],loc=\"best\")"
   ]
  },
  {
   "cell_type": "markdown",
   "id": "53e11c41",
   "metadata": {},
   "source": [
    "# Loss Graph"
   ]
  },
  {
   "cell_type": "code",
   "execution_count": 11,
   "id": "028ec04f",
   "metadata": {},
   "outputs": [
    {
     "data": {
      "text/plain": [
       "<matplotlib.legend.Legend at 0x1da80729e80>"
      ]
     },
     "execution_count": 11,
     "metadata": {},
     "output_type": "execute_result"
    },
    {
     "data": {
      "image/png": "[encoded data removed]",
      "text/plain": [
       "<Figure size 432x288 with 1 Axes>"
      ]
     },
     "metadata": {
      "needs_background": "light"
     },
     "output_type": "display_data"
    }
   ],
   "source": [
    "plt.plot(history.history[\"loss\"])\n",
    "plt.plot(history.history[\"val_loss\"])\n",
    "plt.title(\"Model Loss\")\n",
    "plt.ylabel(\"Loss\")\n",
    "plt.xlabel(\"Epoch\")\n",
    "plt.legend([\"Train\",\"Validation\"],loc=\"best\")"
   ]
  },
  {
   "cell_type": "markdown",
   "id": "8f1b4d62",
   "metadata": {},
   "source": [
    "# Prediction "
   ]
  },
  {
   "cell_type": "code",
   "execution_count": 15,
   "id": "862193c7",
   "metadata": {},
   "outputs": [
    {
     "data": {
      "text/plain": [
       "array([[1.],\n",
       "       [0.],\n",
       "       [1.],\n",
       "       [0.]], dtype=float32)"
      ]
     },
     "execution_count": 15,
     "metadata": {},
     "output_type": "execute_result"
    }
   ],
   "source": [
    "test_texts=[\"you won lottery!\",\"hello bro\",\"buy this iphone for free!\",\"i need help\"]\n",
    "test_token=tf.keras.preprocessing.text.Tokenizer(oov_token=\"<OOV>\")\n",
    "test_token.fit_on_texts(test_texts)\n",
    "test_seq=test_token.texts_to_sequences(test_texts)\n",
    "padded_test_seq=tf.keras.preprocessing.sequence.pad_sequences(test_seq,maxlen=20,padding=\"post\",truncating=\"post\")\n",
    "np.round(model.predict([padded_test_seq]))"
   ]
  },
  {
   "cell_type": "markdown",
   "id": "b801dbe0",
   "metadata": {},
   "source": [
    "# Save"
   ]
  },
  {
   "cell_type": "code",
   "execution_count": 16,
   "id": "770e5363",
   "metadata": {},
   "outputs": [],
   "source": [
    "model.save(\"spam_ham_classifier.h5\")"
   ]
  },
  {
   "cell_type": "markdown",
   "id": "5f7464a4",
   "metadata": {},
   "source": [
    "# Convert To TFLite Model For Edge Devices"
   ]
  },
  {
   "cell_type": "code",
   "execution_count": 17,
   "id": "52574d2a",
   "metadata": {},
   "outputs": [
    {
     "name": "stdout",
     "output_type": "stream",
     "text": [
      "INFO:tensorflow:Assets written to: C:\\Users\\speed\\AppData\\Local\\Temp\\tmpy__868gm\\assets\n"
     ]
    },
    {
     "name": "stderr",
     "output_type": "stream",
     "text": [
      "INFO:tensorflow:Assets written to: C:\\Users\\speed\\AppData\\Local\\Temp\\tmpy__868gm\\assets\n",
      "WARNING:absl:Buffer deduplication procedure will be skipped when flatbuffer library is not properly loaded\n"
     ]
    }
   ],
   "source": [
    "tf_lite_converter=tf.lite.TFLiteConverter.from_keras_model(model)\n",
    "with open(\"spam_ham_classifier.tflite\",\"wb\") as f:\n",
    "    f.write(tf_lite_converter.convert())"
   ]
  }
 ],
 "metadata": {
  "kernelspec": {
   "display_name": "Python 3 (ipykernel)",
   "language": "python",
   "name": "python3"
  },
  "language_info": {
   "codemirror_mode": {
    "name": "ipython",
    "version": 3
   },
   "file_extension": ".py",
   "mimetype": "text/x-python",
   "name": "python",
   "nbconvert_exporter": "python",
   "pygments_lexer": "ipython3",
   "version": "3.9.7"
  }
 },
 "nbformat": 4,
 "nbformat_minor": 5
}
